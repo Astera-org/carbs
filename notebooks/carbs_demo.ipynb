{
 "cells": [
  {
   "cell_type": "code",
   "execution_count": null,
   "metadata": {
    "pycharm": {
     "is_executing": true
    }
   },
   "outputs": [
    {
     "name": "stdout",
     "output_type": "stream",
     "text": [
      "Running CARBS with params CARBSParams(better_direction_sign=-1, seed=0, num_random_samples=4, is_wandb_logging_enabled=False, wandb_params=WandbLoggingParams(project_name=None, group_name=None, run_name=None, run_id=None, is_suggestion_logged=True, is_observation_logged=True, is_search_space_logged=True, root_dir='/mnt/private'), is_saved_on_every_observation=True, initial_search_radius=0.3, exploration_bias=1.0, num_candidates_for_suggestion_per_dim=100, resample_frequency=-1, max_cost=None, min_pareto_cost_fraction=0.2, is_pareto_group_selection_conservative=True, is_expected_improvement_pareto_value_clamped=True, is_expected_improvement_value_always_max=False, outstanding_suggestion_estimator=<OutstandingSuggestionEstimatorEnum.THOMPSON: 'THOMPSON'>)\n",
      "Observation 1\n",
      "Observed lr=3.93e-05, epochs=15, output 67.511\n",
      "Best lr=3.93e-05, epochs=15, output 67.511\n",
      "Observation 2\n",
      "Observed lr=2.84e-04, epochs=33, output 4.718\n",
      "Best lr=2.84e-04, epochs=33, output 4.718\n",
      "Observation 3\n",
      "Observed lr=5.43e-05, epochs=6, output 136.616\n",
      "Best lr=2.84e-04, epochs=33, output 4.718\n",
      "Observation 4\n",
      "Observed lr=1.98e-04, epochs=15, output 16.960\n",
      "Best lr=2.84e-04, epochs=33, output 4.718\n"
     ]
    },
    {
     "name": "stderr",
     "output_type": "stream",
     "text": [
      "/opt/venv/lib/python3.9/site-packages/pyro/contrib/gp/models/gpr.py:81: UserWarning: torch.cholesky is deprecated in favor of torch.linalg.cholesky and will be removed in a future PyTorch release.\n",
      "L = torch.cholesky(A)\n",
      "should be replaced with\n",
      "L = torch.linalg.cholesky(A)\n",
      "and\n",
      "U = torch.cholesky(A, upper=True)\n",
      "should be replaced with\n",
      "U = torch.linalg.cholesky(A).mH().\n",
      "This transform will produce equivalent results for all valid (symmetric positive definite) inputs. (Triggered internally at  ../aten/src/ATen/native/BatchLinearAlgebra.cpp:1744.)\n",
      "  Lff = Kff.cholesky()\n"
     ]
    },
    {
     "name": "stdout",
     "output_type": "stream",
     "text": [
      "Observation 5\n",
      "Observed lr=2.76e-04, epochs=82, output 1.993\n",
      "Best lr=2.76e-04, epochs=82, output 1.993\n"
     ]
    },
    {
     "name": "stderr",
     "output_type": "stream",
     "text": [
      "/opt/venv/lib/python3.9/site-packages/pyro/contrib/gp/util.py:109: UserWarning: torch.triangular_solve is deprecated in favor of torch.linalg.solve_triangularand will be removed in a future PyTorch release.\n",
      "torch.linalg.solve_triangular has its arguments reversed and does not return a copy of one of the inputs.\n",
      "X = torch.triangular_solve(B, A).solution\n",
      "should be replaced with\n",
      "X = torch.linalg.solve_triangular(A, B). (Triggered internally at  ../aten/src/ATen/native/BatchLinearAlgebra.cpp:2183.)\n",
      "  Lffinv_pack = pack.triangular_solve(Lff, upper=False)[0]\n"
     ]
    },
    {
     "name": "stdout",
     "output_type": "stream",
     "text": [
      "Observation 6\n",
      "Observed lr=2.64e-04, epochs=163, output 1.118\n",
      "Best lr=2.64e-04, epochs=163, output 1.118\n",
      "Observation 7\n",
      "Observed lr=3.01e-04, epochs=207, output 0.718\n",
      "Best lr=3.01e-04, epochs=207, output 0.718\n",
      "Observation 8\n",
      "Observed lr=2.45e-04, epochs=207, output 1.012\n",
      "Best lr=3.01e-04, epochs=207, output 0.718\n",
      "Observation 9\n",
      "Observed lr=4.58e-04, epochs=173, output 0.437\n",
      "Best lr=4.58e-04, epochs=173, output 0.437\n",
      "Observation 10\n",
      "Observed lr=7.14e-04, epochs=111, output 0.137\n",
      "Best lr=7.14e-04, epochs=111, output 0.137\n"
     ]
    }
   ],
   "source": [
    "# type: ignore\n",
    "import math\n",
    "import sys\n",
    "from collections import OrderedDict\n",
    "\n",
    "import numpy as np\n",
    "from loguru import logger\n",
    "\n",
    "from carbs import CARBS\n",
    "from carbs import CARBSParams\n",
    "from carbs import LogSpace\n",
    "from carbs import LogitSpace\n",
    "from carbs import ObservationInParam\n",
    "from carbs import ParamDictType\n",
    "from carbs import Param\n",
    "\n",
    "logger.remove()\n",
    "logger.add(sys.stdout, level=\"DEBUG\", format=\"{message}\")\n",
    "\n",
    "\n",
    "\n",
    "def run_test_fn(input_in_param: ParamDictType):\n",
    "    # A noisy function minimized at lr=1e-3, max hidden_dim\n",
    "    result = (math.log10(input_in_param[\"learning_rate\"]) + 3) ** 2 * 512 / input_in_param[\n",
    "        \"epochs\"\n",
    "    ] + np.random.uniform() * 0.1\n",
    "    return result\n",
    "\n",
    "param_spaces = [\n",
    "    Param(name=\"learning_rate\", space=LogSpace(scale=0.5), search_center=1e-4),\n",
    "    Param(name=\"momentum\", space=LogitSpace(), search_center=0.9),\n",
    "    Param(name=\"epochs\", space=LogSpace(is_integer=True, min=2, max=512), search_center=10),\n",
    "]\n",
    "\n",
    "carbs_params = CARBSParams(\n",
    "    better_direction_sign=-1,\n",
    "    is_wandb_logging_enabled=False,\n",
    "    resample_frequency=0,\n",
    ")\n",
    "carbs = CARBS(carbs_params, param_spaces)\n",
    "for i in range(10):\n",
    "    suggestion = carbs.suggest().suggestion\n",
    "    observed_value = run_test_fn(suggestion)\n",
    "    obs_out = carbs.observe(ObservationInParam(input=suggestion, output=observed_value, cost=suggestion[\"epochs\"]))\n",
    "    logger.info(f\"Observation {obs_out.logs['observation_count']}\")\n",
    "    logger.info(\n",
    "        f\"Observed lr={obs_out.logs['observation/learning_rate']:.2e}, \"\n",
    "        f\"epochs={obs_out.logs['observation/epochs']}, \"\n",
    "        f\"output {obs_out.logs['observation/output']:.3f}\"\n",
    "    )\n",
    "    logger.info(\n",
    "        f\"Best lr={obs_out.logs['best_observation/learning_rate']:.2e}, \"\n",
    "        f\"epochs={obs_out.logs['best_observation/epochs']}, \"\n",
    "        f\"output {obs_out.logs['best_observation/output']:.3f}\"\n",
    "    )"
   ]
  },
  {
   "cell_type": "code",
   "execution_count": null,
   "metadata": {},
   "outputs": [],
   "source": []
  }
 ],
 "metadata": {
  "kernelspec": {
   "display_name": "Python 3 (ipykernel)",
   "language": "python",
   "name": "python3"
  },
  "language_info": {
   "codemirror_mode": {
    "name": "ipython",
    "version": 3
   },
   "file_extension": ".py",
   "mimetype": "text/x-python",
   "name": "python",
   "nbconvert_exporter": "python",
   "pygments_lexer": "ipython3",
   "version": "3.9.5"
  }
 },
 "nbformat": 4,
 "nbformat_minor": 1
}
